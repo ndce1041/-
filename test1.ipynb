{
 "cells": [
  {
   "cell_type": "code",
   "execution_count": 1,
   "metadata": {},
   "outputs": [
    {
     "name": "stdout",
     "output_type": "stream",
     "text": [
      "       ts_code trade_date  open  high   low  close  pre_close  change  \\\n",
      "0    000001.SZ   20180727  9.30  9.36  9.18   9.25       9.25    0.00   \n",
      "1    000001.SZ   20180726  9.40  9.48  9.21   9.25       9.38   -0.13   \n",
      "2    000001.SZ   20180725  9.44  9.47  9.33   9.38       9.40   -0.02   \n",
      "3    000001.SZ   20180724  9.39  9.59  9.33   9.40       9.42   -0.02   \n",
      "4    000001.SZ   20180723  9.04  9.45  9.00   9.42       9.11    0.31   \n",
      "..         ...        ...   ...   ...   ...    ...        ...     ...   \n",
      "319  000001.SZ   20170411  9.17  9.19  9.09   9.15       9.18   -0.03   \n",
      "320  000001.SZ   20170410  9.20  9.21  9.17   9.18       9.20   -0.02   \n",
      "321  000001.SZ   20170407  9.19  9.22  9.17   9.20       9.20    0.00   \n",
      "322  000001.SZ   20170406  9.20  9.22  9.17   9.20       9.21   -0.01   \n",
      "323  000001.SZ   20170405  9.16  9.22  9.15   9.21       9.17    0.04   \n",
      "\n",
      "     pct_chg         vol       amount  \n",
      "0     0.0000   515126.03   477527.419  \n",
      "1    -1.3859   833358.15   778429.753  \n",
      "2    -0.2128   614122.81   575752.176  \n",
      "3    -0.2123  1425894.16  1348746.826  \n",
      "4     3.4029  1781688.26  1646028.021  \n",
      "..       ...         ...          ...  \n",
      "319  -0.3300   612437.96   560304.072  \n",
      "320  -0.2200   401343.94   368682.024  \n",
      "321   0.0000   514844.76   473366.404  \n",
      "322  -0.1100   434391.47   399118.983  \n",
      "323   0.4400   499150.09   458567.834  \n",
      "\n",
      "[324 rows x 11 columns]\n"
     ]
    }
   ],
   "source": [
    "import tushare as ts\n",
    "ts.set_token(\"4dfe93632a16f49cae109f45465cc2aa13e6151e3a879cfa23d71d72\")\n",
    "pro = ts.pro_api()\n",
    "\n",
    "\n",
    "df = pro.daily(ts_code='000001.SZ', start_date='20170401', end_date='20180728')\n",
    "print(df)"
   ]
  },
  {
   "cell_type": "code",
   "execution_count": 4,
   "metadata": {},
   "outputs": [],
   "source": [
    "# ARIMA模型\n",
    "from statsmodels.tsa.arima.model import ARIMA\n",
    "import statsmodels.api as sm\n",
    "import matplotlib.pyplot as plt\n",
    "import pandas as pd\n",
    "import numpy as np\n",
    "from sklearn.metrics import mean_squared_error\n",
    "\n",
    "def model(a, b, c, m, df):\n",
    "    # a, b, c是ARIMA模型的参数,a是自回归项,b是差分项,c是移动平均项\n",
    "    # m是训练集的占比\n",
    "    # df是数据集\n",
    "    # 返回模型的训练结果和预测结果\n",
    "    df = df['close'].values\n",
    "    train_size = int(len(df) * m)\n",
    "    train, test = df[0:train_size], df[train_size:]\n",
    "    history = [x for x in train]\n",
    "    predictions = list()\n",
    "    for t in range(len(test)):\n",
    "        model = ARIMA(history, order=(a, b, c))\n",
    "        model_fit = model.fit()\n",
    "        output = model_fit.forecast()\n",
    "        yhat = output[0]\n",
    "        predictions.append(yhat)\n",
    "        obs = test[t]\n",
    "        history.append(obs)\n",
    "    error = mean_squared_error(test, predictions)\n",
    "    print('Test MSE: %.3f' % error)\n",
    "    if error < 1:\n",
    "        print('模型表现较好')\n",
    "    else:\n",
    "        print('模型表现较差')\n",
    "    # plt.plot(test)\n",
    "    # plt.plot(predictions, color='red')\n",
    "    # plt.show()\n",
    "    #预测接下来20天的数据\n",
    "    forecast = model_fit.forecast(20)\n",
    "    # plt.plot(forecast)\n",
    "    # plt.show()\n",
    "    print(\"预测接下来20天的数据：\",forecast)\n",
    "    #若下个20天的平均值大于今天的收盘价，则买入，否则卖出\n",
    "    # if np.mean(forecast[0])>df[-1]:\n",
    "    #     print(1)\n",
    "    # else:\n",
    "    #     print(0)\n",
    "    return int(np.mean(forecast[0])>df[-1]),error,forecast"
   ]
  },
  {
   "cell_type": "code",
   "execution_count": 5,
   "metadata": {},
   "outputs": [
    {
     "name": "stdout",
     "output_type": "stream",
     "text": [
      "Test MSE: 0.005\n",
      "模型表现较好\n",
      "预测接下来20天的数据： [9.2018552  9.20204847 9.20222776 9.20226302 9.20228207 9.20228708\n",
      " 9.20228923 9.20228989 9.20229014 9.20229022 9.20229026 9.20229027\n",
      " 9.20229027 9.20229027 9.20229027 9.20229027 9.20229027 9.20229027\n",
      " 9.20229027 9.20229027]\n"
     ]
    },
    {
     "data": {
      "text/plain": [
       "(0,\n",
       " 0.004807909315323026,\n",
       " array([9.2018552 , 9.20204847, 9.20222776, 9.20226302, 9.20228207,\n",
       "        9.20228708, 9.20228923, 9.20228989, 9.20229014, 9.20229022,\n",
       "        9.20229026, 9.20229027, 9.20229027, 9.20229027, 9.20229027,\n",
       "        9.20229027, 9.20229027, 9.20229027, 9.20229027, 9.20229027]))"
      ]
     },
     "execution_count": 5,
     "metadata": {},
     "output_type": "execute_result"
    }
   ],
   "source": [
    "model(2, 1, 1, 0.8, df)\n",
    "#2为自回归项，1为差分项，1为移动平均项，0.8为训练集占比，df为数据集\n",
    "#输出值为均方误差,模型表现，预测值，是否买入\n"
   ]
  },
  {
   "cell_type": "code",
   "execution_count": 7,
   "metadata": {},
   "outputs": [
    {
     "name": "stdout",
     "output_type": "stream",
     "text": [
      "0\n",
      "1\n",
      "预测接下来20天的数据： 9.046999999999999\n",
      "0\n"
     ]
    },
    {
     "data": {
      "text/plain": [
       "(0.005267692307692316, 9.046999999999999, 0)"
      ]
     },
     "execution_count": 7,
     "metadata": {},
     "output_type": "execute_result"
    }
   ],
   "source": [
    "# 朴素法 (Modified with Technical Analysis)\n",
    "\n",
    "def model(df, m):\n",
    "    df = df[['close', 'vol']]\n",
    "    last_day_data = df.iloc[-1]\n",
    "    yesterday_data = df.iloc[-2]\n",
    "    \n",
    "    # 计算支撑线和阻力线，取训练集百分比的数据\n",
    "    train_size = int(len(df) * m)\n",
    "    data1 = df[-train_size:]\n",
    "    support_line = data1['close'].min()\n",
    "    resistance_line = data1['close'].max()\n",
    "    \n",
    "    # 比较最后一天的收盘价和支撑线、阻力线的关系,且比较成交量\n",
    "    if last_day_data['close'] < support_line and last_day_data['vol'] > yesterday_data['vol']:\n",
    "        print(1)\n",
    "    elif last_day_data['close'] > resistance_line and last_day_data['vol'] > yesterday_data['vol']:\n",
    "        print(0)\n",
    "    else:\n",
    "        print(0)\n",
    "\n",
    "    #测试集进行测试，计算均方误差\n",
    "    train, test = df[0:train_size], df[train_size:]\n",
    "    history = [x for x in train['close']]\n",
    "    predictions = list()\n",
    "    for t in range(len(test)):\n",
    "        yhat = history[-1]\n",
    "        predictions.append(yhat)\n",
    "        obs = test['close'].values[t]\n",
    "        history.append(obs)\n",
    "    error = mean_squared_error(test['close'], predictions)\n",
    "    if error < 1:\n",
    "        print(1)\n",
    "    else:\n",
    "        print(0)\n",
    "    #预测接下来20天的数据\n",
    "    forecast = np.mean(test['close'].values[-20:])\n",
    "    print(\"预测接下来20天的数据：\",forecast)\n",
    "    # plt.plot(forecast)\n",
    "    # plt.show()\n",
    "    #若下个20天的平均值大于今天的收盘价，则买入，否则卖出\n",
    "    if forecast>df['close'].values[-1]:\n",
    "        print(1)\n",
    "    else:\n",
    "        print(0)\n",
    "    return error,forecast,int(forecast>df['close'].values[-1])\n",
    "\n",
    "model(df, 0.8)\n",
    "#df为数据集，0.8为训练集占比\n",
    "#输出值为均方误差,模型表现，预测值，是否买入\n",
    "\n",
    "\n",
    "\n"
   ]
  }
 ],
 "metadata": {
  "kernelspec": {
   "display_name": "Python 3",
   "language": "python",
   "name": "python3"
  },
  "language_info": {
   "codemirror_mode": {
    "name": "ipython",
    "version": 3
   },
   "file_extension": ".py",
   "mimetype": "text/x-python",
   "name": "python",
   "nbconvert_exporter": "python",
   "pygments_lexer": "ipython3",
   "version": "3.11.5"
  }
 },
 "nbformat": 4,
 "nbformat_minor": 2
}
